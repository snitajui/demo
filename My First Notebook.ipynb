{
    "cells": [
        {
            "metadata": {
                "collapsed": true
            },
            "cell_type": "markdown",
            "source": "# My Jupyter Notebook on IBM Watson Studio"
        },
        {
            "metadata": {},
            "cell_type": "markdown",
            "source": "   **Ayesha Jui**\n   Currently i am a Student . In future , i want myself to be an entrepreneur\n   "
        },
        {
            "metadata": {},
            "cell_type": "markdown",
            "source": "*I am interested in data science because , it has already been declared as the hottest job. In fact data science is the field   which is not only helping businesses to recognize their markets and then making better decisions but it is also helping out businesses to get closer to their customers to bring them effective services. *   "
        },
        {
            "metadata": {},
            "cell_type": "markdown",
            "source": "###In my code , a secret word will be given in the code. User will have to guess the word . User will be given 4 attemps. "
        },
        {
            "metadata": {},
            "cell_type": "code",
            "source": "secrect_word = \"Data\"\nguess = \" \"\ncount = 0\nwhile count!= 4 :\n    guess = input(\"Enter what you guess : \")\n    count+= 1\n    if guess == secrect_word:\n       print(\"Hey , you win!\")\n    elif count==4:\n       print(\"LOOSER!!\")\n    else :\n       print(\"Try Again\")",
            "execution_count": 2,
            "outputs": [
                {
                    "output_type": "stream",
                    "name": "stdout",
                    "text": "Enter what you guess : you\nTry Again\nEnter what you guess : why\nTry Again\nEnter what you guess : enginner\nTry Again\nEnter what you guess : Data\nHey , you win!\n"
                }
            ]
        },
        {
            "metadata": {},
            "cell_type": "markdown",
            "source": "Colons can be used to align columns.\n\n| Tables        | Are           | Cool  |\n| ------------- |:-------------:| -----:|\n| col 3 is      | right-aligned | $1600 |\n| col 2 is      | centered      |   $12 |\n| zebra stripes | are neat      |    $1 |\n\nThere must be at least 3 dashes separating each header cell.\nThe outer pipes (|) are optional, and you don't need to make the \nraw Markdown line up prettily. You can also use inline Markdown.\n\nMarkdown | Less | Pretty\n--- | --- | ---\n*Still* | `renders` | **nicely**\n1 | 2 | 3\n\n\n> Blockquotes are very handy in email to emulate reply text.\n> This line is part of the same quote.\n\nQuote break.\n\n> This is a very long line that will still be quoted properly when it wraps. Oh boy let's keep writing to make sure this is long enough to actually wrap for everyone. Oh, you can *put* **Markdown** into a blockquote. \n\n\nThree or more...\n\n---\n\nHyphens\n\n***\n\nAsterisks\n\n___\n\nUnderscores"
        }
    ],
    "metadata": {
        "kernelspec": {
            "name": "python3",
            "display_name": "Python 3.6",
            "language": "python"
        },
        "language_info": {
            "name": "python",
            "version": "3.6.9",
            "mimetype": "text/x-python",
            "codemirror_mode": {
                "name": "ipython",
                "version": 3
            },
            "pygments_lexer": "ipython3",
            "nbconvert_exporter": "python",
            "file_extension": ".py"
        }
    },
    "nbformat": 4,
    "nbformat_minor": 1
}